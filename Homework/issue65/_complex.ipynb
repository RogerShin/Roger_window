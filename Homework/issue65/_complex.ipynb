{
 "cells": [
  {
   "cell_type": "code",
   "execution_count": 2,
   "metadata": {},
   "outputs": [
    {
     "data": {
      "text/plain": [
       "[['Rober', 78, 92, 65], ['Jenny', 65, 96, 72], ['Alice', 85, 72, 95]]"
      ]
     },
     "execution_count": 2,
     "metadata": {},
     "output_type": "execute_result"
    }
   ],
   "source": [
    "students:list[list] = [\n",
    "                        [\"Rober\", 78, 92, 65],\n",
    "                        [\"Jenny\", 65, 96, 72],\n",
    "                        [\"Alice\", 85, 72, 95]\n",
    "                    ]\n",
    "students"
   ]
  },
  {
   "cell_type": "code",
   "execution_count": 2,
   "metadata": {},
   "outputs": [
    {
     "data": {
      "text/plain": [
       "[{'name': ' Robert', 'chinese': 78, 'english': 92, 'math': 65},\n",
       " {'name': ' Jenny', 'chinese': 78, 'english': 92, 'math': 65},\n",
       " {'name': ' Alice', 'chinese': 78, 'english': 92, 'math': 65}]"
      ]
     },
     "execution_count": 2,
     "metadata": {},
     "output_type": "execute_result"
    }
   ],
   "source": [
    "student:list[dict]= [\n",
    "    {\"name\":\" Robert\", \"chinese\":78, \"english\":92, \"math\":65},\n",
    "    {\"name\":\" Jenny\", \"chinese\":78, \"english\":92, \"math\":65},\n",
    "    {\"name\":\" Alice\", \"chinese\":78, \"english\":92, \"math\":65},\n",
    "]\n",
    "\n",
    "student"
   ]
  }
 ],
 "metadata": {
  "kernelspec": {
   "display_name": "venv1",
   "language": "python",
   "name": "python3"
  },
  "language_info": {
   "codemirror_mode": {
    "name": "ipython",
    "version": 3
   },
   "file_extension": ".py",
   "mimetype": "text/x-python",
   "name": "python",
   "nbconvert_exporter": "python",
   "pygments_lexer": "ipython3",
   "version": "3.10.14"
  }
 },
 "nbformat": 4,
 "nbformat_minor": 2
}
