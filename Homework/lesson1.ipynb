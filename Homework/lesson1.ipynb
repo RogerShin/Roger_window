{
 "cells": [
  {
   "cell_type": "code",
   "execution_count": 2,
   "metadata": {},
   "outputs": [],
   "source": [
    "import requests\n",
    "from requests import Response\n",
    "\n",
    "url = \"https://data.moenv.gov.tw/api/v2/aqx_p_488?api_key=e8dd42e6-9b8b-43f8-991e-b3dee723a52d&limit=1000&sort=datacreationdate desc&format=CSV\"\n",
    "\n",
    "res:Response = requests.get(url)\n"
   ]
  },
  {
   "cell_type": "code",
   "execution_count": 3,
   "metadata": {},
   "outputs": [],
   "source": [
    "if res.ok:\n",
    "    content:str = res.text\n",
    "else:\n",
    "    print(\"下載失敗\")"
   ]
  },
  {
   "cell_type": "code",
   "execution_count": 4,
   "metadata": {},
   "outputs": [],
   "source": [
    "from io import StringIO\n",
    "import csv\n",
    "from csv import DictReader\n",
    "\n",
    "file:StringIO = StringIO(initial_value = content)\n",
    "type(file)\n",
    "\n",
    "reader:DictReader = csv.DictReader(file)\n",
    "\n",
    "list_reader = list(reader)\n",
    "fields = list_reader[0].keys()\n",
    "# for row in reader:\n",
    "#         print(row)"
   ]
  },
  {
   "cell_type": "code",
   "execution_count": 4,
   "metadata": {},
   "outputs": [
    {
     "ename": "NameError",
     "evalue": "name 'fields' is not defined",
     "output_type": "error",
     "traceback": [
      "\u001b[1;31m---------------------------------------------------------------------------\u001b[0m",
      "\u001b[1;31mNameError\u001b[0m                                 Traceback (most recent call last)",
      "Cell \u001b[1;32mIn[4], line 7\u001b[0m\n\u001b[0;32m      5\u001b[0m \u001b[38;5;28;01mwith\u001b[39;00m \u001b[38;5;28mopen\u001b[39m(\u001b[38;5;124m'\u001b[39m\u001b[38;5;124maqi.csv\u001b[39m\u001b[38;5;124m'\u001b[39m, \u001b[38;5;124m'\u001b[39m\u001b[38;5;124mw\u001b[39m\u001b[38;5;124m'\u001b[39m, newline\u001b[38;5;241m=\u001b[39m\u001b[38;5;124m'\u001b[39m\u001b[38;5;124m'\u001b[39m) \u001b[38;5;28;01mas\u001b[39;00m csvfile:\n\u001b[0;32m      6\u001b[0m     file:StringIO \u001b[38;5;241m=\u001b[39m StringIO(initial_value \u001b[38;5;241m=\u001b[39m content)\n\u001b[1;32m----> 7\u001b[0m     writer:DictWriter \u001b[38;5;241m=\u001b[39m DictWriter(csvfile, fieldnames\u001b[38;5;241m=\u001b[39m\u001b[43mfields\u001b[49m)\n\u001b[0;32m      8\u001b[0m     writer\u001b[38;5;241m.\u001b[39mwriteheader()\n\u001b[0;32m      9\u001b[0m     writer\u001b[38;5;241m.\u001b[39mwriterows(list_reader)\n",
      "\u001b[1;31mNameError\u001b[0m: name 'fields' is not defined"
     ]
    }
   ],
   "source": [
    "from io import StringIO\n",
    "import csv\n",
    "from csv import DictWriter\n",
    "\n",
    "with open('aqi.csv', 'w', newline='') as csvfile:\n",
    "    file:StringIO = StringIO(initial_value = content)\n",
    "    writer:DictWriter = DictWriter(csvfile, fieldnames=fields)\n",
    "    writer.writeheader()\n",
    "    writer.writerows(list_reader)"
   ]
  }
 ],
 "metadata": {
  "kernelspec": {
   "display_name": "venv1",
   "language": "python",
   "name": "python3"
  },
  "language_info": {
   "codemirror_mode": {
    "name": "ipython",
    "version": 3
   },
   "file_extension": ".py",
   "mimetype": "text/x-python",
   "name": "python",
   "nbconvert_exporter": "python",
   "pygments_lexer": "ipython3",
   "version": "3.10.14"
  }
 },
 "nbformat": 4,
 "nbformat_minor": 2
}
