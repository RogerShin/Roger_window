{
 "cells": [
  {
   "cell_type": "code",
   "execution_count": 127,
   "metadata": {},
   "outputs": [
    {
     "name": "stdout",
     "output_type": "stream",
     "text": [
      "<class '__main__.Person'>\n",
      "p1.name = 蔡忻辰\n",
      "p2.name = Roger Tsai\n"
     ]
    }
   ],
   "source": [
    "class Person():\n",
    "    def __init__(self, n:str):\n",
    "        self.name = n\n",
    "    \n",
    "    def __repr__(self):\n",
    "        return f\"我是Person的實體, 我的名字是{self.name}\"\n",
    "\n",
    "p1:Person = Person(\"蔡忻辰\")\n",
    "print(type(p1))\n",
    "print(f\"p1.name = {p1.name}\")\n",
    "\n",
    "p2:Person = Person(\"Roger Tsai\")\n",
    "p2.name\n",
    "print(f\"p2.name = {p2.name}\")\n"
   ]
  },
  {
   "cell_type": "code",
   "execution_count": 128,
   "metadata": {},
   "outputs": [
    {
     "name": "stdout",
     "output_type": "stream",
     "text": [
      "蔡忻辰\n",
      "Roger Tsai\n"
     ]
    }
   ],
   "source": [
    "class Student(Person):\n",
    "    def __init__(self, name:str, chinese:int, english:int, math:int):\n",
    "        super().__init__(n = name)\n",
    "        self.__chinese = chinese\n",
    "        self.__english = english\n",
    "        self.__math = math\n",
    "\n",
    "    @property\n",
    "    def chinese(self):\n",
    "        return self.__chinese\n",
    "    \n",
    "    @property\n",
    "    def english(self):\n",
    "        return self.__english\n",
    "    \n",
    "    @property \n",
    "    def math(self):\n",
    "        return self.__math\n",
    "    \n",
    "    @property\n",
    "    def scores(self):\n",
    "        return self.__chinese + self.__english + self.__math\n",
    "    \n",
    "    #自訂實體的方法(mathod)\n",
    "    def average(self):\n",
    "        return self.scores /3\n",
    "\n",
    "    def __repr__(self):\n",
    "        message = f\"我是Student的實體,我的名字是:{self.name}\\n\"\n",
    "        message += f\"國文分數:{self.chinese}\\n\"\n",
    "        message += f\"英文分數:{self.english}\\n\"\n",
    "        message += f\"數學分數:{self.math}\\n\"\n",
    "        return message\n",
    "\n",
    "s1:Student = Student(name = \"蔡忻辰\", chinese = 68, english = 62, math = 67)\n",
    "print(s1.name)\n",
    "\n",
    "s2:Student = Student(name = \"Roger Tsai\", math = 65, english = 92, chinese = 84)\n",
    "print(s2.name)\n"
   ]
  },
  {
   "cell_type": "code",
   "execution_count": 130,
   "metadata": {},
   "outputs": [
    {
     "name": "stdout",
     "output_type": "stream",
     "text": [
      "我是Student的實體,我的名字是:蔡忻辰\n",
      "國文分數:68\n",
      "英文分數:62\n",
      "數學分數:67\n",
      "\n",
      "總分:197\n",
      "平均:65.66666666666667\n"
     ]
    }
   ],
   "source": [
    "# attribute是可以更改內容\n",
    "# s1.chinese = 90\n",
    "# s1.english = 90\n",
    "# s1.math = 90\n",
    "print(s1)\n",
    "print(f\"總分:{s1.scores}\") # property，不需括號 ex: scores\n",
    "print(f\"平均:{s1.average()}\") # method()，需要括號 ex: average()"
   ]
  },
  {
   "cell_type": "markdown",
   "metadata": {},
   "source": []
  },
  {
   "cell_type": "markdown",
   "metadata": {},
   "source": []
  }
 ],
 "metadata": {
  "kernelspec": {
   "display_name": "venv1",
   "language": "python",
   "name": "python3"
  },
  "language_info": {
   "codemirror_mode": {
    "name": "ipython",
    "version": 3
   },
   "file_extension": ".py",
   "mimetype": "text/x-python",
   "name": "python",
   "nbconvert_exporter": "python",
   "pygments_lexer": "ipython3",
   "version": "3.10.14"
  }
 },
 "nbformat": 4,
 "nbformat_minor": 2
}
