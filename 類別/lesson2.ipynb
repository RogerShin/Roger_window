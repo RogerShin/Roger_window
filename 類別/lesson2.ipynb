{
 "cells": [
  {
   "cell_type": "code",
   "execution_count": 15,
   "metadata": {},
   "outputs": [
    {
     "name": "stdout",
     "output_type": "stream",
     "text": [
      "<class '__main__.Person'>\n",
      "p1.name = 蔡忻辰\n",
      "p1.name = 17\n",
      "p2.name = Roger Tsai\n",
      "p1.name = 20\n"
     ]
    }
   ],
   "source": [
    "class Person():\n",
    "    def __init__(self, n:str, num:int):\n",
    "        self.name = n\n",
    "        self.number = num\n",
    "\n",
    "p1:Person = Person(\"蔡忻辰\", 17)\n",
    "print(type(p1))\n",
    "print(f\"p1.name = {p1.name}\")\n",
    "print(f\"p1.name = {p1.number}\")\n",
    "\n",
    "p2:Person = Person(\"Roger Tsai\", 20)\n",
    "p2.name\n",
    "print(f\"p2.name = {p2.name}\")\n",
    "print(f\"p1.name = {p2.number}\")"
   ]
  },
  {
   "cell_type": "markdown",
   "metadata": {},
   "source": []
  },
  {
   "cell_type": "markdown",
   "metadata": {},
   "source": []
  }
 ],
 "metadata": {
  "kernelspec": {
   "display_name": "venv1",
   "language": "python",
   "name": "python3"
  },
  "language_info": {
   "codemirror_mode": {
    "name": "ipython",
    "version": 3
   },
   "file_extension": ".py",
   "mimetype": "text/x-python",
   "name": "python",
   "nbconvert_exporter": "python",
   "pygments_lexer": "ipython3",
   "version": "3.10.14"
  }
 },
 "nbformat": 4,
 "nbformat_minor": 2
}
