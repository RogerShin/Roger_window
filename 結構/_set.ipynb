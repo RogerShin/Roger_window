{
 "cells": [
  {
   "cell_type": "code",
   "execution_count": 6,
   "metadata": {},
   "outputs": [
    {
     "data": {
      "text/plain": [
       "{1, 2, 3}"
      ]
     },
     "execution_count": 6,
     "metadata": {},
     "output_type": "execute_result"
    }
   ],
   "source": [
    "s1 = {1, 1, 2, 2, 3, 3}\n",
    "s1"
   ]
  },
  {
   "cell_type": "code",
   "execution_count": 4,
   "metadata": {},
   "outputs": [
    {
     "data": {
      "text/plain": [
       "{1, 2, 3}"
      ]
     },
     "execution_count": 4,
     "metadata": {},
     "output_type": "execute_result"
    }
   ],
   "source": [
    "s2:set = set()\n",
    "s2.add(1)\n",
    "s2.add(1)\n",
    "s2.add(2)\n",
    "s2.add(2)\n",
    "s2.add(3)\n",
    "s2.add(3)\n",
    "s2\n"
   ]
  },
  {
   "cell_type": "code",
   "execution_count": 7,
   "metadata": {},
   "outputs": [
    {
     "data": {
      "text/plain": [
       "{1, 2, 3, 4, 5, 6}"
      ]
     },
     "execution_count": 7,
     "metadata": {},
     "output_type": "execute_result"
    }
   ],
   "source": [
    "s3:set = {1, 2, 3, 4}\n",
    "s4:set = {3, 4, 5, 6}\n",
    "u1:set = s3.union(s4)\n",
    "u1"
   ]
  },
  {
   "cell_type": "code",
   "execution_count": 10,
   "metadata": {},
   "outputs": [
    {
     "data": {
      "text/plain": [
       "{3, 4}"
      ]
     },
     "execution_count": 10,
     "metadata": {},
     "output_type": "execute_result"
    }
   ],
   "source": [
    "s5:set = {1, 2, 3, 4}\n",
    "s6:set = {3, 4, 5, 6}\n",
    "i1:set = s5.intersection(s6)\n",
    "i1"
   ]
  },
  {
   "cell_type": "code",
   "execution_count": 39,
   "metadata": {},
   "outputs": [
    {
     "data": {
      "text/plain": [
       "[49, 44, 42, 28, 23, 14, 4]"
      ]
     },
     "execution_count": 39,
     "metadata": {},
     "output_type": "execute_result"
    }
   ],
   "source": [
    "# 選寫一個大樂透電腦自動選號程式, 程式執行會以亂數的方式顯示1~49之間七個不重複的大樂透號碼\n",
    "import random\n",
    "lot:set = set()\n",
    "\n",
    "while len(lot) < 7:\n",
    "    lot.add(random.randint(1, 49))\n",
    "\n",
    "lot_list:list[int]= list(lot)\n",
    "lot_list.sort(reverse = True)\n",
    "lot_list"
   ]
  }
 ],
 "metadata": {
  "kernelspec": {
   "display_name": "venv1",
   "language": "python",
   "name": "python3"
  },
  "language_info": {
   "codemirror_mode": {
    "name": "ipython",
    "version": 3
   },
   "file_extension": ".py",
   "mimetype": "text/x-python",
   "name": "python",
   "nbconvert_exporter": "python",
   "pygments_lexer": "ipython3",
   "version": "3.10.14"
  }
 },
 "nbformat": 4,
 "nbformat_minor": 2
}
