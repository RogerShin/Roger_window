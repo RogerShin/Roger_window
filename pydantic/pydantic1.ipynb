{
 "cells": [
  {
   "cell_type": "code",
   "execution_count": 1,
   "metadata": {},
   "outputs": [],
   "source": [
    "from pydantic import BaseModel\n",
    "\n",
    "class InventoryItem(BaseModel):\n",
    "    \"\"\"Class for keeping track of an item in inventory.\"\"\"\n",
    "    name:str\n",
    "    unit_price:float\n",
    "    quantity_on_hand:int = 0"
   ]
  },
  {
   "cell_type": "code",
   "execution_count": 7,
   "metadata": {},
   "outputs": [
    {
     "name": "stdout",
     "output_type": "stream",
     "text": [
      "name='手機殼' unit_price=150.5 quantity_on_hand=0\n"
     ]
    }
   ],
   "source": [
    "# unit_price的字串, 自動轉換為float\n",
    "item1 = InventoryItem(name = \"手機殼\", unit_price = \"150.5\")\n",
    "print(item1)\n",
    "#item1.name, item1.unit_price, item1.quantity_on_hand"
   ]
  },
  {
   "cell_type": "code",
   "execution_count": 11,
   "metadata": {},
   "outputs": [
    {
     "name": "stdout",
     "output_type": "stream",
     "text": [
      "1 validation error for InventoryItem\n",
      "quantity_on_hand\n",
      "  Input should be a valid integer, unable to parse string as an integer [type=int_parsing, input_value='15.5', input_type=str]\n",
      "    For further information visit https://errors.pydantic.dev/2.7/v/int_parsing\n"
     ]
    }
   ],
   "source": [
    "# unit_price的字串, 自動轉換為int失敗, 需要手動轉換, raise ValidationError\n",
    "from pydantic import ValidationError\n",
    "try:\n",
    "    item1 = InventoryItem(name = \"手機殼\", unit_price = \" 150.5\", quantity_on_hand = \"15.5\")\n",
    "    print(item1)\n",
    "except ValidationError as e:\n",
    "    print(e)\n"
   ]
  },
  {
   "cell_type": "code",
   "execution_count": 12,
   "metadata": {},
   "outputs": [
    {
     "name": "stdout",
     "output_type": "stream",
     "text": [
      "name='手機殼' unit_price=150.5 quantity_on_hand=15\n"
     ]
    }
   ],
   "source": [
    "# unit_price的字串, 自動轉換為int\n",
    "from pydantic import ValidationError\n",
    "try:\n",
    "    item1 = InventoryItem(name = \"手機殼\", unit_price = \" 150.5\", quantity_on_hand = \"15\")\n",
    "    print(item1)\n",
    "except ValidationError as e:\n",
    "    print(e)"
   ]
  }
 ],
 "metadata": {
  "kernelspec": {
   "display_name": "venv1",
   "language": "python",
   "name": "python3"
  },
  "language_info": {
   "codemirror_mode": {
    "name": "ipython",
    "version": 3
   },
   "file_extension": ".py",
   "mimetype": "text/x-python",
   "name": "python",
   "nbconvert_exporter": "python",
   "pygments_lexer": "ipython3",
   "version": "3.10.14"
  }
 },
 "nbformat": 4,
 "nbformat_minor": 2
}
